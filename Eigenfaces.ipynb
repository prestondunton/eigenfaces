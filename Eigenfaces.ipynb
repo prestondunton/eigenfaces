{
 "cells": [
  {
   "cell_type": "markdown",
   "metadata": {},
   "source": [
    "# Imports and Constants"
   ]
  },
  {
   "cell_type": "code",
   "execution_count": 1,
   "metadata": {},
   "outputs": [],
   "source": [
    "import math\n",
    "import os\n",
    "\n",
    "import numpy as np\n",
    "import matplotlib.pyplot as plt\n",
    "\n",
    "from sklearn.base import BaseEstimator\n",
    "from sklearn.model_selection import train_test_split\n",
    "from sklearn.neighbors import KNeighborsClassifier\n",
    "\n",
    "\n",
    "RANDOM_SEED = 1936"
   ]
  },
  {
   "cell_type": "markdown",
   "metadata": {},
   "source": [
    "# Implementation"
   ]
  },
  {
   "cell_type": "markdown",
   "metadata": {},
   "source": [
    "## Utility / Plotting Functions"
   ]
  },
  {
   "cell_type": "code",
   "execution_count": 2,
   "metadata": {},
   "outputs": [],
   "source": [
    "def plot_images(arr, titles = None, n_col = 6):\n",
    "\n",
    "    # all images are flattened, so we must unpack them\n",
    "    \n",
    "    if arr.ndim == 1:\n",
    "        # a single greyscale image\n",
    "        arr = arr.reshape((int(math.sqrt(arr.shape[0])), int(math.sqrt(arr.shape[0]))))\n",
    "        plt.imshow(arr, cmap=\"gray\")\n",
    "        \n",
    "    elif arr.ndim == 2:\n",
    "        if arr.shape[1] == 3:\n",
    "            # a single color image\n",
    "            arr = arr.reshape((int(math.sqrt(arr.shape[0])), int(math.sqrt(arr.shape[0])), 3))\n",
    "            plt.imshow(arr)\n",
    "        else:\n",
    "            # multiple greyscale images\n",
    "            arr = arr.reshape((arr.shape[0], int(math.sqrt(arr.shape[1])), int(math.sqrt(arr.shape[1]))))\n",
    "            plot_portraits(arr, titles, color=False, n_col = n_col)\n",
    "            \n",
    "    elif arr.ndim == 3:\n",
    "        # multiple color images\n",
    "        arr = arr.reshape((arr.shape[0], int(math.sqrt(arr.shape[1])), int(math.sqrt(arr.shape[1])), 3))\n",
    "        plot_portraits(arr, titles, color=True, n_col = n_col)\n",
    "        \n",
    "    else:\n",
    "        raise RuntimeError(\"I have no idea what you want me to do.\")\n",
    "        \n",
    "def plot_portraits(images, titles = None, color = False, n_col = 6):\n",
    "    \"\"\"\n",
    "    ADAPTED FROM (TOWARDS DATA SCIENCE SOURCE)\n",
    "    \n",
    "    CITATION NEEDED\n",
    "    \"\"\"\n",
    "    \n",
    "    n_row = math.ceil(images.shape[0] / n_col)\n",
    "    \n",
    "    plt.figure(figsize=(2.2 * n_col, 2.2 * n_row))\n",
    "    plt.subplots_adjust(bottom=0, left=.01, right=.99, top=.90, hspace=.20)\n",
    "    \n",
    "    for i in range(images.shape[0]):\n",
    "        plt.subplot(n_row, n_col, i + 1)\n",
    "        \n",
    "        if color:\n",
    "            plt.imshow(images[i])\n",
    "        else:\n",
    "            plt.imshow(images[i], cmap=\"gray\")\n",
    "        \n",
    "        if titles is not None:\n",
    "            plt.title(titles[i])\n",
    "        \n",
    "        plt.xticks(())\n",
    "        plt.yticks(())"
   ]
  },
  {
   "cell_type": "markdown",
   "metadata": {},
   "source": [
    "## Data Import"
   ]
  },
  {
   "cell_type": "code",
   "execution_count": 3,
   "metadata": {},
   "outputs": [],
   "source": [
    "def load_data(dir, num_images):\n",
    "    image_file_names = os.listdir(dir)[0:num_images]\n",
    "    image_paths = [dir + \"/\" + file_name for file_name in image_file_names]\n",
    "\n",
    "    images = np.array([plt.imread(path) for path in image_paths])\n",
    "    image_labels = [name[:name.find('0')-1].replace(\"_\", \" \") for name in image_file_names]\n",
    "\n",
    "    # flatten the images into vectors\n",
    "    if images.ndim == 4:\n",
    "        # color images\n",
    "        new_shape = (images.shape[0], images.shape[1]*images.shape[2], 3)\n",
    "    else:\n",
    "        # greyscale images\n",
    "        new_shape = (images.shape[0], images.shape[1]*images.shape[2])\n",
    "    \n",
    "    images = np.reshape(images, new_shape)\n",
    "    image_labels = np.array(image_labels)\n",
    "    \n",
    "    return images, image_labels"
   ]
  },
  {
   "cell_type": "markdown",
   "metadata": {},
   "source": [
    "## Eigenfaces"
   ]
  },
  {
   "cell_type": "code",
   "execution_count": 4,
   "metadata": {},
   "outputs": [],
   "source": [
    "class Eigenfaces(BaseEstimator):\n",
    "    def __init__(self, model = None, num_eigenvectors = None, prop_var_retained = None):\n",
    "        \n",
    "        self.mean = None\n",
    "        self.eigenvalues = None\n",
    "        self.eigenvectors = None\n",
    "        \n",
    "        self.var_props = None\n",
    "        self.cumu_var_props = None\n",
    "        \n",
    "        self.basis = None\n",
    "        self.num_eigenvectors = num_eigenvectors\n",
    "        self.prop_var_retained = prop_var_retained\n",
    "        \n",
    "        self.model = model\n",
    "        \n",
    "    def decompose(self, X):\n",
    "        \"\"\"\n",
    "        Eigen decomposes the faces images specified by the numpy array \n",
    "        parameter X (long form: rows are observations, columns are variables)\n",
    "        Computes min(N^2,M) eigenvectors / eigenvalues where\n",
    "        X has N^2 dimensions and M observations\n",
    "        \n",
    "        The mean face vector is stored in self.mean\n",
    "        The eigenfaces are stored in self.eigenvectors\n",
    "        The eigenvalues are stored in self.eigenvalues\n",
    "        \n",
    "        The proportion of variance each eigenvector explains is stored in self.var_props\n",
    "        The cumulative propoprtions of variance are stored in self.cumu_var_props\n",
    "        \n",
    "        The basis is set using a call to Eigenvaces._set_basis() which uses class parameters, or\n",
    "        all of the eigenvectors if no parameters were given.\n",
    "        \"\"\"\n",
    "        \n",
    "        mean = np.mean(X, axis=0)\n",
    "        X = X - mean\n",
    "        \n",
    "        # put into wide form for calculation\n",
    "        X = X.transpose() \n",
    "        \n",
    "        n_squared = X.shape[0] # number of dimensions of each image\n",
    "        m = X.shape[1] # number of images\n",
    "        \n",
    "        # CITATION NEEDED (case study, math explaination)\n",
    "        if m < n_squared:\n",
    "            B = np.matmul(X.transpose(), X)  # an (m x m) matrix\n",
    "            values, vectors = np.linalg.eig(B)\n",
    "            vectors = np.matmul(X, vectors)\n",
    "        else:\n",
    "            S = np.matmul(X, X.transpose())  # an (n_squared x n_squred) matrix\n",
    "            values, vectors = np.linalg.eig(S)\n",
    "            \n",
    "        # put the eigenvectors into long form\n",
    "        vectors = vectors.transpose()\n",
    "        \n",
    "        # sort by eignevalue descending\n",
    "        values, vectors = zip(*sorted(zip(values, vectors), reverse=True))\n",
    "        values = np.array(values)\n",
    "        vectors = np.array(vectors)\n",
    "        \n",
    "        # normalize vectors to be unit length\n",
    "        norms = np.linalg.norm(vectors, axis=1)\n",
    "        norms = norms.reshape(norms.shape[0],1)\n",
    "        vectors = vectors / norms\n",
    "        \n",
    "        self.mean = mean\n",
    "        self.eigenvalues = values\n",
    "        self.eigenvectors = vectors\n",
    "        \n",
    "        self.var_props = self.eigenvalues / np.sum(self.eigenvalues)\n",
    "        self.cumu_var_props = np.cumsum(self.var_props)\n",
    "        \n",
    "        # an orthonormal basis\n",
    "        # basis is set using constructor parameters, or all eigenvectors if no parameters given\n",
    "        if self.num_eigenvectors is None and self.prop_var_retained is None:\n",
    "            self._set_basis(prop_var_retained = 1.0)\n",
    "        else:\n",
    "            self._set_basis(self.num_eigenvectors, self.prop_var_retained)\n",
    "        \n",
    "        return\n",
    "    \n",
    "    def _set_basis(self, num_eigenvectors = None, prop_var_retained = None):\n",
    "        \"\"\"\n",
    "        Sets the basis for the face space.  This can be done in one of two methods, \n",
    "        listed below in order of priority.  self.basis is an array of indecies into self.eigenvectors.\n",
    "        \n",
    "        If num_eigenvectors is specified, the basis is just the first num_eigenvectors eigenvectors\n",
    "        stored in self.eigenvectors.\n",
    "        \n",
    "        If prop_variance is specified, the basis will be made up of enough eigenvectors to meet the\n",
    "        specified proportion of total variance of the original images.\n",
    "        \"\"\"\n",
    "        \n",
    "        if self.eigenvectors is None:\n",
    "            raise RuntimeError(\"Eigenfaces haven't been calculated yet! Run Eigenfaces.dempose() to calculate eigenfaces.\")\n",
    "        \n",
    "        if num_eigenvectors is not None:\n",
    "            if num_eigenvectors <= 0 or num_eigenvectors > len(self.eigenvectors):\n",
    "                raise ValueError(\"At least 1 and no more than \" + str(len(self.eigenvectors)) + \" eigenvectors \" \\\n",
    "                \"can be chosen from self.eigenvectors.\")\n",
    "            \n",
    "            self.basis = np.arange(0,num_eigenvectors)\n",
    "            \n",
    "        elif prop_var_retained is not None:\n",
    "            if prop_var_retained < 0 or prop_var_retained > 1:\n",
    "                raise ValueError(\"Specified proportion of variance is not in the range [0,1].\")\n",
    "            elif prop_var_retained == 1:\n",
    "                self.basis = np.arange(0,len(self.eigenvalues))\n",
    "            else:\n",
    "                index = np.where(self.cumu_var_props > prop_var_retained)[0][0]\n",
    "                self.basis = np.arange(0, index+1)\n",
    "            \n",
    "        else:\n",
    "            raise ValueError(\"Please specify at least one method for choosing a basis.\")        \n",
    "            \n",
    "    def projection_scalars(self, X):\n",
    "        \"\"\"\n",
    "        Calculates the scalars used in linear combinations of the self.basis\n",
    "        vectors to create a projection of the column vetors of X onto self.basis\n",
    "        \n",
    "        X is in long form with observations as rows and dimensions as columns\n",
    "        \"\"\"\n",
    "        \n",
    "        if self.basis is None:\n",
    "            raise RuntimeError(\"Basis hasn't been calculated yet!  Run Eigenfaces.decompose() to calculate eigenvectors\")\n",
    "        \n",
    "        return np.matmul(X, self.eigenvectors[self.basis].transpose())\n",
    "    \n",
    "    def reconstruct(self, projection_scalars):\n",
    "        \"\"\"\n",
    "        Reconstructs an array of images using self.basis and an\n",
    "        array of the scalars used in a linear combination of the \n",
    "        basis vectors.\n",
    "        \n",
    "        The numpy array projection is in long form with observations\n",
    "        as rows and linear combination scalars accross columns\n",
    "        \"\"\"\n",
    "        \n",
    "        if self.basis is None:\n",
    "            raise RuntimeError(\"Basis hasn't been calculated yet!  Run Eigenfaces.decompose() to calculate eigenvectors,'\\\n",
    "                                ' and optionally run Eigenfaces.set_basis() to subset those basis vectors.\")\n",
    "        \n",
    "        return np.matmul(projection_scalars, self.eigenvectors[self.basis])\n",
    "    \n",
    "    def project(self, X):\n",
    "        \"\"\"\n",
    "        Projects the images specified by the numpy array parameter X\n",
    "        (long form: rows are observations, columns are variables)\n",
    "        onto the face space, the space spanned by the eigenvectors \n",
    "        stored in self.basis.\n",
    "        \"\"\"\n",
    "        \n",
    "        return self.reconstruct(self.projection_scalars(X))\n",
    "    \n",
    "    def fit(self, X, y, redecompose = True):\n",
    "        \"\"\"\n",
    "        Fits the model self.model by projecting the data X onto self.basis with labels y.\n",
    "        The data is taken from numpy arrray of flattened images X in long form \n",
    "        (observations across rows, variables across columns).\n",
    "        \n",
    "        If the self.basis has not yet been calculated, a call to self.decompose(X)\n",
    "        is made.\n",
    "        \"\"\"\n",
    "        \n",
    "        if self.model is None:\n",
    "            raise RuntimeError(\"No model was passed into self.model.  No model to fit.\")\n",
    "        else:\n",
    "            if redecompose:\n",
    "                self.decompose(X)    \n",
    "                \n",
    "            self.model.fit(self.project(X),y)\n",
    "        \n",
    "        return\n",
    "\n",
    "    def predict(self, X):\n",
    "        \"\"\"\n",
    "        Predicts the classes of new observations X, a numpy array of images using\n",
    "        self.model.  \n",
    "        \"\"\"\n",
    "        if self.model is None:\n",
    "            raise RuntimeError(\"No model was passed into self.model.  No model to predict with.\")\n",
    "        else:\n",
    "            return self.model.predict(self.project(X))\n",
    "        "
   ]
  },
  {
   "cell_type": "markdown",
   "metadata": {},
   "source": [
    "# Application"
   ]
  },
  {
   "cell_type": "markdown",
   "metadata": {},
   "source": [
    "## Data Import"
   ]
  },
  {
   "cell_type": "code",
   "execution_count": 7,
   "metadata": {},
   "outputs": [
    {
     "data": {
      "text/plain": [
       "((300, 4096), (300,))"
      ]
     },
     "execution_count": 7,
     "metadata": {},
     "output_type": "execute_result"
    }
   ],
   "source": [
    "#CITATION NEEDED (TOWARDS DATA SCIENCE)\n",
    "#CITATION NEEDED (LFW CROP GREY)\n",
    "\n",
    "num_images = 300\n",
    "\n",
    "X, y = load_data(\"datasets/lfwcrop_grey/faces\", num_images)\n",
    "\n",
    "X.shape, y.shape"
   ]
  },
  {
   "cell_type": "markdown",
   "metadata": {},
   "source": [
    "## Decomposition Demonstration"
   ]
  },
  {
   "cell_type": "markdown",
   "metadata": {},
   "source": [
    "## Data Reduction Analysis"
   ]
  },
  {
   "cell_type": "markdown",
   "metadata": {},
   "source": [
    "## Machine Learning Demonstration\n",
    "\n",
    "I want to demonstrate that using eigenface decomposition is better than just predicting using the original data.  Measure both time and performance."
   ]
  },
  {
   "cell_type": "code",
   "execution_count": 8,
   "metadata": {},
   "outputs": [
    {
     "data": {
      "text/plain": [
       "((240, 4096), (240,), (60, 4096), (60,))"
      ]
     },
     "execution_count": 8,
     "metadata": {},
     "output_type": "execute_result"
    }
   ],
   "source": [
    "X_train, X_test, y_train, y_test = train_test_split(X, y, train_size = 0.8, shuffle = True, random_state = RANDOM_SEED)\n",
    "\n",
    "X_train.shape, y_train.shape, X_test.shape, y_test.shape"
   ]
  },
  {
   "cell_type": "code",
   "execution_count": 6,
   "metadata": {},
   "outputs": [
    {
     "data": {
      "text/plain": [
       "'base_model = KNeighborsClassifier(n_neighbors=1, metric=\"euclidean\", n_jobs=-1)\\n\\nef = Eigenfaces(model = base_model, prop_var_retained = 0.99)\\n\\nef.fit(X,y)\\n\\nef.predict(X)'"
      ]
     },
     "execution_count": 6,
     "metadata": {},
     "output_type": "execute_result"
    }
   ],
   "source": [
    "'''base_model = KNeighborsClassifier(n_neighbors=1, metric=\"euclidean\", n_jobs=-1)\n",
    "\n",
    "ef = Eigenfaces(model = base_model, prop_var_retained = 0.99)\n",
    "\n",
    "ef.fit(X,y)\n",
    "\n",
    "ef.predict(X)'''"
   ]
  },
  {
   "cell_type": "markdown",
   "metadata": {},
   "source": [
    "# Sources"
   ]
  }
 ],
 "metadata": {
  "kernelspec": {
   "display_name": "Python 3",
   "language": "python",
   "name": "python3"
  },
  "language_info": {
   "codemirror_mode": {
    "name": "ipython",
    "version": 3
   },
   "file_extension": ".py",
   "mimetype": "text/x-python",
   "name": "python",
   "nbconvert_exporter": "python",
   "pygments_lexer": "ipython3",
   "version": "3.8.3"
  }
 },
 "nbformat": 4,
 "nbformat_minor": 4
}
